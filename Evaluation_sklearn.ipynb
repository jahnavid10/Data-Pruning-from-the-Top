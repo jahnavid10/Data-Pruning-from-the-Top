{
 "cells": [
  {
   "cell_type": "code",
   "execution_count": 56,
   "metadata": {},
   "outputs": [],
   "source": [
    "import pandas as pd\n",
    "import numpy as np\n",
    "from sklearn.model_selection import train_test_split\n",
    "from sklearn.metrics import mean_squared_error, mean_absolute_error\n",
    "from sklearn.neighbors import NearestNeighbors\n",
    "from sklearn.decomposition import TruncatedSVD\n",
    "from sklearn.preprocessing import StandardScaler\n",
    "from sklearn.metrics import ndcg_score\n"
   ]
  },
  {
   "cell_type": "code",
   "execution_count": 57,
   "metadata": {},
   "outputs": [
    {
     "name": "stdout",
     "output_type": "stream",
     "text": [
      "   user_id  item_id  implicit_feedback\n",
      "0      196      242                  1\n",
      "1      186      302                  1\n",
      "2       22      377                  1\n",
      "3      244       51                  1\n",
      "4      166      346                  1\n",
      "Index(['user_id', 'item_id', 'implicit_feedback'], dtype='object')\n"
     ]
    }
   ],
   "source": [
    "# Load the data into a pandas DataFrame\n",
    "data = pd.read_csv(r'D:\\Recommender Systems\\Arbeit\\project\\implicit_data.csv')\n",
    "\n",
    "print(data.head())\n",
    "print(data.columns)\n",
    "\n"
   ]
  },
  {
   "cell_type": "code",
   "execution_count": 58,
   "metadata": {},
   "outputs": [],
   "source": [
    "# Split the data into train and test sets\n",
    "train_data, test_data = train_test_split(data, test_size=0.2, random_state=42)"
   ]
  },
  {
   "cell_type": "code",
   "execution_count": 59,
   "metadata": {},
   "outputs": [],
   "source": [
    "# Creating a User-item matrix\n",
    "# KNN Recommender\n",
    "user_item_matrix = train_data.pivot(index='user_id', columns='item_id', values='implicit_feedback').fillna(0)"
   ]
  },
  {
   "cell_type": "code",
   "execution_count": 60,
   "metadata": {},
   "outputs": [
    {
     "data": {
      "text/html": [
       "<style>#sk-container-id-6 {color: black;}#sk-container-id-6 pre{padding: 0;}#sk-container-id-6 div.sk-toggleable {background-color: white;}#sk-container-id-6 label.sk-toggleable__label {cursor: pointer;display: block;width: 100%;margin-bottom: 0;padding: 0.3em;box-sizing: border-box;text-align: center;}#sk-container-id-6 label.sk-toggleable__label-arrow:before {content: \"▸\";float: left;margin-right: 0.25em;color: #696969;}#sk-container-id-6 label.sk-toggleable__label-arrow:hover:before {color: black;}#sk-container-id-6 div.sk-estimator:hover label.sk-toggleable__label-arrow:before {color: black;}#sk-container-id-6 div.sk-toggleable__content {max-height: 0;max-width: 0;overflow: hidden;text-align: left;background-color: #f0f8ff;}#sk-container-id-6 div.sk-toggleable__content pre {margin: 0.2em;color: black;border-radius: 0.25em;background-color: #f0f8ff;}#sk-container-id-6 input.sk-toggleable__control:checked~div.sk-toggleable__content {max-height: 200px;max-width: 100%;overflow: auto;}#sk-container-id-6 input.sk-toggleable__control:checked~label.sk-toggleable__label-arrow:before {content: \"▾\";}#sk-container-id-6 div.sk-estimator input.sk-toggleable__control:checked~label.sk-toggleable__label {background-color: #d4ebff;}#sk-container-id-6 div.sk-label input.sk-toggleable__control:checked~label.sk-toggleable__label {background-color: #d4ebff;}#sk-container-id-6 input.sk-hidden--visually {border: 0;clip: rect(1px 1px 1px 1px);clip: rect(1px, 1px, 1px, 1px);height: 1px;margin: -1px;overflow: hidden;padding: 0;position: absolute;width: 1px;}#sk-container-id-6 div.sk-estimator {font-family: monospace;background-color: #f0f8ff;border: 1px dotted black;border-radius: 0.25em;box-sizing: border-box;margin-bottom: 0.5em;}#sk-container-id-6 div.sk-estimator:hover {background-color: #d4ebff;}#sk-container-id-6 div.sk-parallel-item::after {content: \"\";width: 100%;border-bottom: 1px solid gray;flex-grow: 1;}#sk-container-id-6 div.sk-label:hover label.sk-toggleable__label {background-color: #d4ebff;}#sk-container-id-6 div.sk-serial::before {content: \"\";position: absolute;border-left: 1px solid gray;box-sizing: border-box;top: 0;bottom: 0;left: 50%;z-index: 0;}#sk-container-id-6 div.sk-serial {display: flex;flex-direction: column;align-items: center;background-color: white;padding-right: 0.2em;padding-left: 0.2em;position: relative;}#sk-container-id-6 div.sk-item {position: relative;z-index: 1;}#sk-container-id-6 div.sk-parallel {display: flex;align-items: stretch;justify-content: center;background-color: white;position: relative;}#sk-container-id-6 div.sk-item::before, #sk-container-id-6 div.sk-parallel-item::before {content: \"\";position: absolute;border-left: 1px solid gray;box-sizing: border-box;top: 0;bottom: 0;left: 50%;z-index: -1;}#sk-container-id-6 div.sk-parallel-item {display: flex;flex-direction: column;z-index: 1;position: relative;background-color: white;}#sk-container-id-6 div.sk-parallel-item:first-child::after {align-self: flex-end;width: 50%;}#sk-container-id-6 div.sk-parallel-item:last-child::after {align-self: flex-start;width: 50%;}#sk-container-id-6 div.sk-parallel-item:only-child::after {width: 0;}#sk-container-id-6 div.sk-dashed-wrapped {border: 1px dashed gray;margin: 0 0.4em 0.5em 0.4em;box-sizing: border-box;padding-bottom: 0.4em;background-color: white;}#sk-container-id-6 div.sk-label label {font-family: monospace;font-weight: bold;display: inline-block;line-height: 1.2em;}#sk-container-id-6 div.sk-label-container {text-align: center;}#sk-container-id-6 div.sk-container {/* jupyter's `normalize.less` sets `[hidden] { display: none; }` but bootstrap.min.css set `[hidden] { display: none !important; }` so we also need the `!important` here to be able to override the default hidden behavior on the sphinx rendered scikit-learn.org. See: https://github.com/scikit-learn/scikit-learn/issues/21755 */display: inline-block !important;position: relative;}#sk-container-id-6 div.sk-text-repr-fallback {display: none;}</style><div id=\"sk-container-id-6\" class=\"sk-top-container\"><div class=\"sk-text-repr-fallback\"><pre>NearestNeighbors(algorithm=&#x27;brute&#x27;, metric=&#x27;cosine&#x27;, n_neighbors=25)</pre><b>In a Jupyter environment, please rerun this cell to show the HTML representation or trust the notebook. <br />On GitHub, the HTML representation is unable to render, please try loading this page with nbviewer.org.</b></div><div class=\"sk-container\" hidden><div class=\"sk-item\"><div class=\"sk-estimator sk-toggleable\"><input class=\"sk-toggleable__control sk-hidden--visually\" id=\"sk-estimator-id-6\" type=\"checkbox\" checked><label for=\"sk-estimator-id-6\" class=\"sk-toggleable__label sk-toggleable__label-arrow\">NearestNeighbors</label><div class=\"sk-toggleable__content\"><pre>NearestNeighbors(algorithm=&#x27;brute&#x27;, metric=&#x27;cosine&#x27;, n_neighbors=25)</pre></div></div></div></div></div>"
      ],
      "text/plain": [
       "NearestNeighbors(algorithm='brute', metric='cosine', n_neighbors=25)"
      ]
     },
     "execution_count": 60,
     "metadata": {},
     "output_type": "execute_result"
    }
   ],
   "source": [
    "# Fit the Nearest Neighbors model\n",
    "k_neighbors = 25  # You can adjust this parameter\n",
    "knn_model = NearestNeighbors(n_neighbors=k_neighbors, metric='cosine', algorithm='brute')\n",
    "knn_model.fit(user_item_matrix.values)"
   ]
  },
  {
   "cell_type": "code",
   "execution_count": 69,
   "metadata": {},
   "outputs": [],
   "source": [
    "# Matrix Factorization\n",
    "user_item_matrix_scaled = StandardScaler().fit_transform(user_item_matrix)\n",
    "svd_model = TruncatedSVD(n_components=20, n_iter=100, random_state=42)  # Adjusted number of components\n",
    "svd_matrix = svd_model.fit_transform(user_item_matrix_scaled)\n",
    "\n"
   ]
  },
  {
   "cell_type": "code",
   "execution_count": 70,
   "metadata": {},
   "outputs": [],
   "source": [
    "knn_predictions = []\n",
    "svd_predictions = []\n",
    "\n",
    "for _, row in test_data.iterrows():\n",
    "    user = row['user_id']\n",
    "    item = row['item_id']\n",
    "\n",
    "    # KNN prediction\n",
    "    if user in user_item_matrix.index and item in user_item_matrix.columns:\n",
    "        user_index = user_item_matrix.index.get_loc(user)\n",
    "        _, neighbor_indices = knn_model.kneighbors([user_item_matrix.iloc[user_index].values], n_neighbors=k_neighbors)\n",
    "        knn_prediction = user_item_matrix.iloc[neighbor_indices.flatten()].mean(axis=0)[item]\n",
    "        knn_predictions.append(knn_prediction)\n",
    "    else:\n",
    "        knn_predictions.append(np.nan)  # Handle missing values\n",
    "\n",
    "    # SVD prediction\n",
    "    if user in user_item_matrix.index and item in user_item_matrix.columns:\n",
    "        user_embedding = svd_matrix[user_item_matrix.index == user]\n",
    "        item_embedding = svd_model.components_[:, user_item_matrix.columns == item]\n",
    "        svd_prediction = (user_embedding @ item_embedding).item()\n",
    "        svd_predictions.append(svd_prediction)\n",
    "    else:\n",
    "        svd_predictions.append(np.nan)  # Handle missing values\n"
   ]
  },
  {
   "cell_type": "code",
   "execution_count": 63,
   "metadata": {},
   "outputs": [],
   "source": [
    "# Create new columns for predictions in test_data\n",
    "test_data['knn_prediction'] = knn_predictions\n",
    "test_data['svd_prediction'] = svd_predictions\n"
   ]
  },
  {
   "cell_type": "code",
   "execution_count": 64,
   "metadata": {},
   "outputs": [],
   "source": [
    "# Assuming your original ratings are in the range [0, 1]\n",
    "min_rating = 0\n",
    "max_rating = 1\n",
    "\n",
    "# Scale the KNN predictions to the rating range\n",
    "knn_predictions_implicit = (knn_predictions - np.nanmin(knn_predictions)) / (np.nanmax(knn_predictions) - np.nanmin(knn_predictions)) * (max_rating - min_rating) + min_rating\n",
    "\n",
    "# Scale the SVD predictions to the rating range\n",
    "svd_predictions_implicit = (svd_predictions - np.nanmin(svd_predictions)) / (np.nanmax(svd_predictions) - np.nanmin(svd_predictions)) * (max_rating - min_rating) + min_rating\n",
    "\n",
    "# Create new columns for implicit predictions in test_data\n",
    "test_data['knn_prediction_implicit'] = knn_predictions_implicit\n",
    "test_data['svd_prediction_implicit'] = svd_predictions_implicit"
   ]
  },
  {
   "cell_type": "code",
   "execution_count": 65,
   "metadata": {},
   "outputs": [],
   "source": [
    "# Evaluate the models\n",
    "test_labels = test_data['implicit_feedback'].values\n",
    "\n",
    "# Filter out NaN values from predictions and true labels\n",
    "knn_rmse = mean_squared_error(test_labels[~np.isnan(knn_predictions)], [pred for pred in knn_predictions if not np.isnan(pred)], squared=False)\n",
    "knn_mae = mean_absolute_error(test_labels[~np.isnan(knn_predictions)], [pred for pred in knn_predictions if not np.isnan(pred)])\n",
    "\n",
    "svd_rmse = mean_squared_error(test_labels[~np.isnan(svd_predictions)], [pred for pred in svd_predictions if not np.isnan(pred)], squared=False)\n",
    "svd_mae = mean_absolute_error(test_labels[~np.isnan(svd_predictions)], [pred for pred in svd_predictions if not np.isnan(pred)])\n"
   ]
  },
  {
   "cell_type": "code",
   "execution_count": 66,
   "metadata": {},
   "outputs": [],
   "source": [
    "# Filter out NaN values from true labels and predictions\n",
    "valid_indices = ~np.isnan(svd_predictions)\n",
    "y_true_valid = test_labels[valid_indices]\n",
    "y_score_valid = np.array(svd_predictions)[valid_indices]\n",
    "\n",
    "# NDCG for SVD\n",
    "ndcg = ndcg_score([y_true_valid], [y_score_valid])\n"
   ]
  },
  {
   "cell_type": "code",
   "execution_count": 67,
   "metadata": {},
   "outputs": [
    {
     "name": "stdout",
     "output_type": "stream",
     "text": [
      "KNN RMSE: 0.7375\n",
      "KNN MAE: 0.7094\n",
      "SVD RMSE: 0.7761\n",
      "SVD MAE: 0.6696\n",
      "SVD NDCG: 1.0000\n"
     ]
    }
   ],
   "source": [
    "# Print results\n",
    "print(f'KNN RMSE: {knn_rmse:.4f}')\n",
    "print(f'KNN MAE: {knn_mae:.4f}')\n",
    "\n",
    "print(f'SVD RMSE: {svd_rmse:.4f}')\n",
    "print(f'SVD MAE: {svd_mae:.4f}')\n",
    "print(f'SVD NDCG: {ndcg:.4f}')\n",
    "\n"
   ]
  },
  {
   "cell_type": "code",
   "execution_count": 68,
   "metadata": {},
   "outputs": [
    {
     "name": "stdout",
     "output_type": "stream",
     "text": [
      "KNN Implicit Rating Predictions:\n",
      "       user_id  item_id  implicit_feedback  knn_prediction_implicit\n",
      "23056      431      327                  1                 0.391304\n",
      "62043      468       55                  1                 0.652174\n",
      "24332       10      513                  1                 0.521739\n",
      "39217      851      240                  1                 0.347826\n",
      "32164       51      144                  1                 0.347826\n",
      "...        ...      ...                ...                      ...\n",
      "49981      711       79                  1                 0.652174\n",
      "58333      884      529                  1                 0.347826\n",
      "9272       409     1176                  1                 0.000000\n",
      "51783      447      716                  1                 0.086957\n",
      "18144      354      604                  1                 0.217391\n",
      "\n",
      "[13612 rows x 4 columns]\n",
      "\n",
      "SVD Implicit Rating Predictions:\n",
      "       user_id  item_id  implicit_feedback  svd_prediction_implicit\n",
      "23056      431      327                  1                 0.213343\n",
      "62043      468       55                  1                 0.255272\n",
      "24332       10      513                  1                 0.405021\n",
      "39217      851      240                  1                 0.287963\n",
      "32164       51      144                  1                 0.175793\n",
      "...        ...      ...                ...                      ...\n",
      "49981      711       79                  1                 0.289234\n",
      "58333      884      529                  1                 0.216518\n",
      "9272       409     1176                  1                 0.279942\n",
      "51783      447      716                  1                 0.227371\n",
      "18144      354      604                  1                 0.319153\n",
      "\n",
      "[13612 rows x 4 columns]\n"
     ]
    }
   ],
   "source": [
    "# Print Implicit rating predictions\n",
    "print(\"KNN Implicit Rating Predictions:\")\n",
    "print(test_data[['user_id', 'item_id', 'implicit_feedback', 'knn_prediction_implicit']])\n",
    "\n",
    "print(\"\\nSVD Implicit Rating Predictions:\")\n",
    "print(test_data[['user_id', 'item_id', 'implicit_feedback', 'svd_prediction_implicit']])"
   ]
  }
 ],
 "metadata": {
  "kernelspec": {
   "display_name": "myenv",
   "language": "python",
   "name": "python3"
  },
  "language_info": {
   "codemirror_mode": {
    "name": "ipython",
    "version": 3
   },
   "file_extension": ".py",
   "mimetype": "text/x-python",
   "name": "python",
   "nbconvert_exporter": "python",
   "pygments_lexer": "ipython3",
   "version": "3.10.10"
  }
 },
 "nbformat": 4,
 "nbformat_minor": 2
}
