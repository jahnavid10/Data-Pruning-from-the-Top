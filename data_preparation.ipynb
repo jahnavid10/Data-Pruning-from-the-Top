{
 "cells": [
  {
   "cell_type": "code",
   "execution_count": 66,
   "metadata": {},
   "outputs": [],
   "source": [
    "# Importing Libraries\n",
    "import pandas as pd\n",
    "import numpy as np\n",
    "\n"
   ]
  },
  {
   "cell_type": "code",
   "execution_count": 67,
   "metadata": {},
   "outputs": [
    {
     "name": "stdout",
     "output_type": "stream",
     "text": [
      "   user_id  item_id  rating  timestamp\n",
      "0      196      242       3  881250949\n",
      "1      186      302       3  891717742\n",
      "2       22      377       1  878887116\n",
      "3      244       51       2  880606923\n",
      "4      166      346       1  886397596\n"
     ]
    }
   ],
   "source": [
    "# Load the dataset into a Pandas DataFrame\n",
    "data = pd.read_csv(r'D:\\Recommender Systems\\Arbeit\\ml-100k\\ml-100k\\u.data', sep =' ', names=['user_id', 'item_id', 'rating', 'timestamp'])\n",
    "\n",
    "# Split the 'user_id' column on tabs and create new columns\n",
    "data[['user_id', 'item_id', 'rating', 'timestamp']] = data['user_id'].str.split('\\t', expand=True)\n",
    "\n",
    "# Convert the columns to the appropriate data types\n",
    "data['user_id'] = data['user_id'].astype(int)\n",
    "data['item_id'] = data['item_id'].astype(int)\n",
    "data['rating'] = data['rating'].astype(int)\n",
    "data['timestamp'] = data['timestamp'].astype(int)\n",
    "\n",
    "# Print the column names in your dataset\n",
    "print(data.head())\n"
   ]
  },
  {
   "cell_type": "code",
   "execution_count": 68,
   "metadata": {},
   "outputs": [
    {
     "name": "stdout",
     "output_type": "stream",
     "text": [
      "   user_id  item_id  rating  timestamp\n",
      "0      196      242       3  881250949\n",
      "1      186      302       3  891717742\n",
      "2       22      377       1  878887116\n",
      "3      244       51       2  880606923\n",
      "4      166      346       1  886397596\n"
     ]
    }
   ],
   "source": [
    "# Removing Top users\n",
    "# Set a threshold for the number of ratings to define \"top users\"\n",
    "ratings_threshold = 500  # Adjust this threshold as needed\n",
    "\n",
    "# Count the number of ratings for each user\n",
    "user_ratings_count = data['user_id'].value_counts()\n",
    "\n",
    "# Get the list of user IDs that exceed the threshold\n",
    "top_users = user_ratings_count[user_ratings_count > ratings_threshold].index.tolist()\n",
    "\n",
    "# Filter the data to exclude ratings from top users\n",
    "data = data[~data['user_id'].isin(top_users)]\n",
    "\n",
    "print(data.head())"
   ]
  },
  {
   "cell_type": "code",
   "execution_count": 69,
   "metadata": {},
   "outputs": [
    {
     "name": "stdout",
     "output_type": "stream",
     "text": [
      "   user_id  item_id  rating  timestamp  implicit_feedback\n",
      "0      196      242       3  881250949                  1\n",
      "1      186      302       3  891717742                  1\n",
      "2       22      377       1  878887116                  0\n",
      "3      244       51       2  880606923                  0\n",
      "4      166      346       1  886397596                  0\n"
     ]
    }
   ],
   "source": [
    "# Set a threshold for implicit feedback (e.g., consider ratings of 4 or 5 as positive)\n",
    "threshold = 3\n",
    "\n",
    "# Create a new column 'implicit_feedback' based on the threshold\n",
    "data['implicit_feedback'] = (data['rating'] >= threshold).astype(int)\n",
    "\n",
    "\n",
    "# Creating a DataFrame using the extracted data\n",
    "data = pd.DataFrame(data, columns=['user_id', 'item_id', 'rating', 'timestamp', 'implicit_feedback'])\n",
    "\n",
    "# Saving the DataFrame as a CSV file\n",
    "data.to_csv(r\"D:\\Recommender Systems\\Arbeit\\project\\top_pruned_implicit_feedback.csv\", index=False)\n",
    "\n",
    "print(data.head())"
   ]
  }
 ],
 "metadata": {
  "kernelspec": {
   "display_name": "Python 3",
   "language": "python",
   "name": "python3"
  },
  "language_info": {
   "codemirror_mode": {
    "name": "ipython",
    "version": 3
   },
   "file_extension": ".py",
   "mimetype": "text/x-python",
   "name": "python",
   "nbconvert_exporter": "python",
   "pygments_lexer": "ipython3",
   "version": "3.10.11"
  }
 },
 "nbformat": 4,
 "nbformat_minor": 2
}
